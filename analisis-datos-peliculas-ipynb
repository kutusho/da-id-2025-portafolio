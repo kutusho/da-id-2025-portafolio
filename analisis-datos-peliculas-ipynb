print('Hola mundo, este es mi primer código con git y github')

Autor: Iván Díaz 
Curso: Tripleten Cohort 43 DA